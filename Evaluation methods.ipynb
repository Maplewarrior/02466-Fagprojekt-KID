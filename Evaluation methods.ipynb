{
 "cells": [
  {
   "cell_type": "markdown",
   "metadata": {},
   "source": [
    "# Eksperimentering med evalueringsmetoder\n",
    "### 1) Archetypal correlation coefficient\n",
    "### 2) Normalised mutual information\n",
    "### 3) ..."
   ]
  },
  {
   "cell_type": "code",
   "execution_count": 5,
   "metadata": {},
   "outputs": [],
   "source": [
    "import numpy as np"
   ]
  },
  {
   "cell_type": "markdown",
   "metadata": {},
   "source": [
    "## Archetypal Correlation Coefficient\n",
    "NOTE: Hvis vi følger Bachelor thesis, så er metoden for at finde vores korrelations-koefficient ret underligt. Vi skal vel finde en rækkefølge på rækkerne i vores A-matricer. Så kan vi sammenligne rækkerne parvis, således at vi får så høje korrelations-koefficienter som muligt. Bachelor thesis vil gerne have at vi kan genbruge rækker. Jeg ville umiddelbart forvente at hver række kun måtte bruges én gang."
   ]
  },
  {
   "cell_type": "code",
   "execution_count": 42,
   "metadata": {},
   "outputs": [],
   "source": [
    "np.random.seed(42)\n",
    "K = 4\n",
    "A1 = np.random.rand(K,K)\n",
    "A2 = np.random.rand(K,K)\n",
    "corr = np.zeros((K,K))"
   ]
  },
  {
   "cell_type": "code",
   "execution_count": 44,
   "metadata": {},
   "outputs": [],
   "source": [
    "for i in range(K):\n",
    "    for j in range(K):\n",
    "        corr[i][j] = np.corrcoef(A1[i,:], A2[j,:])[0][1]"
   ]
  },
  {
   "cell_type": "code",
   "execution_count": 46,
   "metadata": {},
   "outputs": [
    {
     "data": {
      "text/plain": [
       "array([[ 0.90442152, -0.9890276 ,  0.42024089, -0.6127424 ],\n",
       "       [-0.58578611,  0.07133999,  0.17193385, -0.47962678],\n",
       "       [-0.34874947,  0.07330612,  0.72340376, -0.71473635],\n",
       "       [-0.47322721,  0.85723967, -0.05286688,  0.52446162]])"
      ]
     },
     "execution_count": 46,
     "metadata": {},
     "output_type": "execute_result"
    }
   ],
   "source": [
    "# hver række svarer til række 'i' på A1, og hver kolonne er række 'j' på A2\n",
    "corr"
   ]
  },
  {
   "cell_type": "code",
   "execution_count": 51,
   "metadata": {},
   "outputs": [
    {
     "data": {
      "text/plain": [
       "array([0.90442152, 0.17193385, 0.72340376, 0.85723967])"
      ]
     },
     "execution_count": 51,
     "metadata": {},
     "output_type": "execute_result"
    }
   ],
   "source": [
    "np.amax(corr, axis=1)"
   ]
  },
  {
   "cell_type": "code",
   "execution_count": 47,
   "metadata": {},
   "outputs": [
    {
     "data": {
      "text/plain": [
       "(array([[0.37454012, 0.95071431, 0.73199394, 0.59865848],\n",
       "        [0.15601864, 0.15599452, 0.05808361, 0.86617615],\n",
       "        [0.60111501, 0.70807258, 0.02058449, 0.96990985],\n",
       "        [0.83244264, 0.21233911, 0.18182497, 0.18340451]]),\n",
       " array([[0.30424224, 0.52475643, 0.43194502, 0.29122914],\n",
       "        [0.61185289, 0.13949386, 0.29214465, 0.36636184],\n",
       "        [0.45606998, 0.78517596, 0.19967378, 0.51423444],\n",
       "        [0.59241457, 0.04645041, 0.60754485, 0.17052412]]))"
      ]
     },
     "execution_count": 47,
     "metadata": {},
     "output_type": "execute_result"
    }
   ],
   "source": [
    "A1,A2"
   ]
  },
  {
   "cell_type": "markdown",
   "metadata": {},
   "source": [
    "#### The coefficient"
   ]
  },
  {
   "cell_type": "code",
   "execution_count": 53,
   "metadata": {},
   "outputs": [
    {
     "data": {
      "text/plain": [
       "0.664249699278022"
      ]
     },
     "execution_count": 53,
     "metadata": {},
     "output_type": "execute_result"
    }
   ],
   "source": [
    "np.mean(np.amax(corr, axis=1))"
   ]
  },
  {
   "cell_type": "markdown",
   "metadata": {},
   "source": [
    "## Normalised Mutual Information\n",
    "NOTE IGEN: Bachelor thesis driller os igen. Dimensionerne på hans matricer matcher ikke dimensionerne på vores. Jeg bliver jævnt forvirret.<br>\n",
    "Fx synes han at Z er NxK og A er KxM (side 15)\n"
   ]
  },
  {
   "cell_type": "code",
   "execution_count": 84,
   "metadata": {},
   "outputs": [],
   "source": [
    "M, p = 10,5 #attributes, number of archetypes\n",
    "# X = Z*A  \n",
    "s = np.random.rand(M,p) # Simulated archetype matrix (S)\n",
    "z = np.random.rand(M,p) # True archetype matrix Z\n",
    "\n",
    "# In matlab, it's referred to as: Z1 - DxN"
   ]
  },
  {
   "cell_type": "code",
   "execution_count": 85,
   "metadata": {},
   "outputs": [],
   "source": [
    "def calcMI(Z1,Z2):\n",
    "    P = Z1@Z2.T\n",
    "    PXY=P/sum(sum(P))\n",
    "    PXPY=np.outer(np.sum(PXY,axis=1), np.sum(PXY,axis=0))\n",
    "    ind = np.where(PXY>0)\n",
    "    MI=sum(PXY[ind]*np.log(PXY[ind]/PXPY[ind]))\n",
    "    return MI"
   ]
  },
  {
   "cell_type": "code",
   "execution_count": 86,
   "metadata": {},
   "outputs": [],
   "source": [
    "def calcNMI(Z1,Z2):\n",
    "    NMI = (2*calcMI(Z1,Z2)) / (calcMI(Z1,Z1) + calcMI(Z2,Z2))\n",
    "    return NMI"
   ]
  },
  {
   "cell_type": "code",
   "execution_count": 87,
   "metadata": {},
   "outputs": [
    {
     "data": {
      "text/plain": [
       "0.9350332962895589"
      ]
     },
     "execution_count": 87,
     "metadata": {},
     "output_type": "execute_result"
    }
   ],
   "source": [
    "#z1 = np.array([[2,4],[5,4]])\n",
    "#z2 = np.array([[1,7],[4,3]])\n",
    "\n",
    "calcNMI(s,z)"
   ]
  }
 ],
 "metadata": {
  "kernelspec": {
   "display_name": "Python 3",
   "language": "python",
   "name": "python3"
  },
  "language_info": {
   "codemirror_mode": {
    "name": "ipython",
    "version": 3
   },
   "file_extension": ".py",
   "mimetype": "text/x-python",
   "name": "python",
   "nbconvert_exporter": "python",
   "pygments_lexer": "ipython3",
   "version": "3.8.5"
  }
 },
 "nbformat": 4,
 "nbformat_minor": 4
}

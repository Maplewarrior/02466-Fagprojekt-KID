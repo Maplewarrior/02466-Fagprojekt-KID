{
 "cells": [
  {
   "cell_type": "code",
   "execution_count": 141,
   "metadata": {},
   "outputs": [],
   "source": [
    "import numpy as np"
   ]
  },
  {
   "cell_type": "code",
   "execution_count": 142,
   "metadata": {},
   "outputs": [],
   "source": [
    "np.random.seed(42)\n",
    "K, N = 4, 5\n",
    "A1 = np.random.rand(K,N)\n",
    "A2 = np.random.rand(K,N)"
   ]
  },
  {
   "cell_type": "code",
   "execution_count": 143,
   "metadata": {},
   "outputs": [
    {
     "data": {
      "text/plain": [
       "(array([[0.37454012, 0.95071431, 0.73199394, 0.59865848, 0.15601864],\n",
       "        [0.15599452, 0.05808361, 0.86617615, 0.60111501, 0.70807258],\n",
       "        [0.02058449, 0.96990985, 0.83244264, 0.21233911, 0.18182497],\n",
       "        [0.18340451, 0.30424224, 0.52475643, 0.43194502, 0.29122914]]),\n",
       " array([[0.61185289, 0.13949386, 0.29214465, 0.36636184, 0.45606998],\n",
       "        [0.78517596, 0.19967378, 0.51423444, 0.59241457, 0.04645041],\n",
       "        [0.60754485, 0.17052412, 0.06505159, 0.94888554, 0.96563203],\n",
       "        [0.80839735, 0.30461377, 0.09767211, 0.68423303, 0.44015249]]))"
      ]
     },
     "execution_count": 143,
     "metadata": {},
     "output_type": "execute_result"
    }
   ],
   "source": [
    "A1,A2"
   ]
  },
  {
   "cell_type": "markdown",
   "metadata": {},
   "source": [
    "## Matrix Correlation Coefficient"
   ]
  },
  {
   "cell_type": "code",
   "execution_count": 144,
   "metadata": {},
   "outputs": [],
   "source": [
    "def ACC(A1,A2):\n",
    "    corr = np.zeros((K,K))\n",
    "    for i in range(K):\n",
    "        for j in range(K):\n",
    "            corr[i][j] = np.corrcoef(A1[:,i], A2[:,j])[0][1]\n",
    "    \n",
    "    max_list = []\n",
    "    for _ in range(K):\n",
    "        row, column = np.unravel_index(corr.argmax(), corr.shape)\n",
    "        max_list.append(corr[row][column])\n",
    "        corr = np.delete(corr, row, axis=0)\n",
    "        corr = np.delete(corr, column, axis=1)\n",
    "    \n",
    "    return np.mean(max_list)"
   ]
  },
  {
   "cell_type": "code",
   "execution_count": 145,
   "metadata": {},
   "outputs": [
    {
     "data": {
      "text/plain": [
       "0.05919772889855576"
      ]
     },
     "execution_count": 145,
     "metadata": {},
     "output_type": "execute_result"
    }
   ],
   "source": [
    "ACC(A1,A2)"
   ]
  },
  {
   "cell_type": "markdown",
   "metadata": {},
   "source": [
    "## Normalised Mutual Information"
   ]
  },
  {
   "cell_type": "code",
   "execution_count": 146,
   "metadata": {},
   "outputs": [],
   "source": [
    "def calcMI(A1,A2):\n",
    "    P = A1@A2.T\n",
    "    PXY=P/sum(sum(P))\n",
    "    PXPY=np.outer(np.sum(PXY,axis=1), np.sum(PXY,axis=0))\n",
    "    ind = np.where(PXY>0)\n",
    "    MI=sum(PXY[ind]*np.log(PXY[ind]/PXPY[ind]))\n",
    "    return MI"
   ]
  },
  {
   "cell_type": "code",
   "execution_count": 147,
   "metadata": {},
   "outputs": [],
   "source": [
    "def calcNMI(A1,A2): \n",
    "    NMI = (2*calcMI(A1,A2)) / (calcMI(A1,A1) + calcMI(A2,A2))\n",
    "    return NMI"
   ]
  },
  {
   "cell_type": "code",
   "execution_count": 148,
   "metadata": {},
   "outputs": [
    {
     "data": {
      "text/plain": [
       "0.16568712557600532"
      ]
     },
     "execution_count": 148,
     "metadata": {},
     "output_type": "execute_result"
    }
   ],
   "source": [
    "calcNMI(S,A)"
   ]
  },
  {
   "cell_type": "markdown",
   "metadata": {},
   "source": [
    "## Response Bias Analysis"
   ]
  },
  {
   "cell_type": "code",
   "execution_count": 149,
   "metadata": {},
   "outputs": [
    {
     "data": {
      "text/plain": [
       "(array([0.2, 0.4, 0.6, 0.8]), array([0.3, 0.4, 0.7, 0.8]))"
      ]
     },
     "execution_count": 149,
     "metadata": {},
     "output_type": "execute_result"
    }
   ],
   "source": [
    "b1 = np.arange(5)[1:]/5\n",
    "b2 = np.array([0.3,0.4,0.7,0.8])\n",
    "b1,b2"
   ]
  },
  {
   "cell_type": "code",
   "execution_count": 150,
   "metadata": {},
   "outputs": [],
   "source": [
    "def rba(b1,b2):\n",
    "    total = 0\n",
    "    k = b1.shape[0]\n",
    "    for i in range(k):\n",
    "        total += abs(b1[i]-b2[i])\n",
    "    return total/k"
   ]
  },
  {
   "cell_type": "code",
   "execution_count": 151,
   "metadata": {},
   "outputs": [
    {
     "data": {
      "text/plain": [
       "0.04999999999999999"
      ]
     },
     "execution_count": 151,
     "metadata": {},
     "output_type": "execute_result"
    }
   ],
   "source": [
    "rba(b1,b2)"
   ]
  },
  {
   "cell_type": "markdown",
   "metadata": {},
   "source": [
    "Notér at boundaries ikke må indeholde de første og sidste værdier (altså 0 og 1)"
   ]
  }
 ],
 "metadata": {
  "kernelspec": {
   "display_name": "Python 3",
   "language": "python",
   "name": "python3"
  },
  "language_info": {
   "codemirror_mode": {
    "name": "ipython",
    "version": 3
   },
   "file_extension": ".py",
   "mimetype": "text/x-python",
   "name": "python",
   "nbconvert_exporter": "python",
   "pygments_lexer": "ipython3",
   "version": "3.8.5"
  }
 },
 "nbformat": 4,
 "nbformat_minor": 4
}

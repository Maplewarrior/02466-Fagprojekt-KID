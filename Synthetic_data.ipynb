{
 "cells": [
  {
   "cell_type": "markdown",
   "metadata": {},
   "source": [
    "# This script produces ordinal synthetic data\n",
    "\n",
    "#### Based on this website:\n",
    "#### https://stackabuse.com/generating-synthetic-data-with-numpy-and-scikit-learn/\n",
    "\n",
    "\n",
    "## Importing dependencies"
   ]
  },
  {
   "cell_type": "code",
   "execution_count": 1,
   "metadata": {},
   "outputs": [],
   "source": [
    "import numpy as np\n",
    "\n",
    "# Needed for plotting\n",
    "import matplotlib.colors\n",
    "import matplotlib.pyplot as plt\n",
    "from mpl_toolkits.mplot3d import Axes3D\n",
    "\n",
    "# Needed for generating classification, regression and clustering datasets\n",
    "import sklearn.datasets as dt\n",
    "\n",
    "# Needed for generating data from an existing dataset\n",
    "from sklearn.neighbors import KernelDensity\n",
    "from sklearn.model_selection import GridSearchCV"
   ]
  },
  {
   "cell_type": "markdown",
   "metadata": {},
   "source": [
    "## Define seed"
   ]
  },
  {
   "cell_type": "code",
   "execution_count": null,
   "metadata": {},
   "outputs": [],
   "source": [
    "# Define the seed so that results can be reproduced\n",
    "seed = 11\n",
    "rand_state = 11\n",
    "\n",
    "# Define the color maps for plots\n",
    "color_map = plt.cm.get_cmap('RdYlBu')\n",
    "color_map_discrete = matplotlib.colors.LinearSegmentedColormap.from_list(\"\", [\"red\",\"cyan\",\"magenta\",\"blue\"])"
   ]
  },
  {
   "cell_type": "markdown",
   "metadata": {},
   "source": [
    "## Sample from Dirichlet distribution "
   ]
  },
  {
   "cell_type": "code",
   "execution_count": null,
   "metadata": {},
   "outputs": [],
   "source": [
    "#Using mthod 1 with gamma distribution\n",
    "rand = np.random.RandomState(seed) \n",
    "distribution = 'Diriclet'\n",
    "params = [a1,a2,a3,a4,a5,a6]\n",
    "sample = [random.gammavariate(a, 1) for a in params]\n",
    "sample = [v / sum(sample) for v in sample]\n",
    "# Params is alpha is a vector (sequence of floats) with lenght K which is the number of categories which \n",
    "# we define as 6 due to the amount of answer possibilities\n",
    "\n",
    "#https://en.wikipedia.org/wiki/Dirichlet_distribution#Random_number_generation\n"
   ]
  },
  {
   "cell_type": "code",
   "execution_count": 7,
   "metadata": {},
   "outputs": [],
   "source": [
    "#Using method 2 with np.random.dirichlet with beta samlping \n",
    "#Draw samples from the Dirichlet distribution\n",
    "alpha = (10,5,3)\n",
    "sample = np.random.dirichlet(alpha,size=20)\n",
    "sample = sample.transpose()\n",
    "#alpha input shape could be m*n\n",
    "#default is size is K\n",
    "#https://numpy.org/doc/stable/reference/random/generated/numpy.random.dirichlet.html\n",
    "\n"
   ]
  },
  {
   "cell_type": "code",
   "execution_count": 8,
   "metadata": {},
   "outputs": [
    {
     "data": {
      "text/plain": [
       "Text(0.5, 1.0, 'Lengths of Strings')"
      ]
     },
     "execution_count": 8,
     "metadata": {},
     "output_type": "execute_result"
    },
    {
     "data": {
      "image/png": "[encoded data removed]",
      "text/plain": [
       "<Figure size 432x288 with 1 Axes>"
      ]
     },
     "metadata": {
      "needs_background": "light"
     },
     "output_type": "display_data"
    }
   ],
   "source": [
    "import matplotlib.pyplot as plt\n",
    "plt.barh(range(20), sample[0])\n",
    "plt.barh(range(20), sample[1], left=sample[0], color='g')\n",
    "plt.barh(range(20), sample[2], left=sample[0]+sample[1], color='r')\n",
    "plt.title(\"Lengths of Strings\")"
   ]
  },
  {
   "cell_type": "code",
   "execution_count": null,
   "metadata": {},
   "outputs": [],
   "source": [
    "fig,ax = plt.subplots(nrows=2, ncols=3,figsize=(12,7))\n",
    "plt_ind_list = np.arange(6)+231\n",
    "\n",
    "for dist, plt_ind, param, colors in zip(dist_list, plt_ind_list, param_list, colors_list):\n",
    "    x = eval('rand.'+dist+'('+param+',5000)') \n",
    "    \n",
    "    plt.subplot(plt_ind)\n",
    "    plt.hist(x,bins=50,color=colors)\n",
    "    plt.title(dist)\n",
    "\n",
    "fig.subplots_adjust(hspace=0.4,wspace=.3) \n",
    "plt.suptitle('Sampling from Various Distributions',fontsize=20)\n",
    "plt.show()"
   ]
  },
  {
   "cell_type": "code",
   "execution_count": null,
   "metadata": {},
   "outputs": [],
   "source": []
  }
 ],
 "metadata": {
  "interpreter": {
   "hash": "43b9ce26163e13d33acf434d69c6db11ee60c3a76d6e87ad083d77361cd0b8b8"
  },
  "kernelspec": {
   "display_name": "Python 3.9.1 64-bit",
   "language": "python",
   "name": "python3"
  },
  "language_info": {
   "codemirror_mode": {
    "name": "ipython",
    "version": 3
   },
   "file_extension": ".py",
   "mimetype": "text/x-python",
   "name": "python",
   "nbconvert_exporter": "python",
   "pygments_lexer": "ipython3",
   "version": "3.9.1"
  },
  "orig_nbformat": 4
 },
 "nbformat": 4,
 "nbformat_minor": 2
}

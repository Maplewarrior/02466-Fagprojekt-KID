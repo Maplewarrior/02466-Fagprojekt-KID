{
 "cells": [
  {
   "cell_type": "code",
   "execution_count": 1,
   "id": "f2fe6569",
   "metadata": {},
   "outputs": [],
   "source": [
    "import torch\n",
    "from torch import nn\n",
    "import torch.optim as optim"
   ]
  },
  {
   "cell_type": "code",
   "execution_count": 2,
   "id": "992708db",
   "metadata": {},
   "outputs": [],
   "source": [
    "a = 2.4785694\n",
    "b = 7.3256989\n",
    "error = 0.1\n",
    "n = 100 "
   ]
  },
  {
   "cell_type": "code",
   "execution_count": 19,
   "id": "51e920c6",
   "metadata": {},
   "outputs": [
    {
     "data": {
      "text/plain": [
       "[Parameter containing:\n",
       " tensor([[-0.9930]], requires_grad=True),\n",
       " Parameter containing:\n",
       " tensor([-0.1491], requires_grad=True)]"
      ]
     },
     "execution_count": 19,
     "metadata": {},
     "output_type": "execute_result"
    }
   ],
   "source": [
    "list( model.parameters() )"
   ]
  },
  {
   "cell_type": "code",
   "execution_count": 20,
   "id": "b39b98cb",
   "metadata": {},
   "outputs": [],
   "source": [
    "# Data\n",
    "x = torch.randn(n, 1)\n",
    "\n",
    "t = a * x + b + (torch.randn(n, 1) * error)\n",
    "\n",
    "model = nn.Linear(1, 1)\n",
    "optimizer = optim.Adam(model.parameters(), lr=0.05)\n",
    "loss_fn = nn.MSELoss()"
   ]
  },
  {
   "cell_type": "code",
   "execution_count": 4,
   "id": "3a5068df",
   "metadata": {},
   "outputs": [
    {
     "name": "stdout",
     "output_type": "stream",
     "text": [
      "----------\n",
      "learned a = 0.04813520237803459\n",
      "learned b = -0.8316531777381897\n",
      "----------\n",
      "learned a = 0.0980818122625351\n",
      "learned b = -0.7816605567932129\n",
      "----------\n",
      "learned a = 0.14793679118156433\n",
      "learned b = -0.7316803336143494\n",
      "----------\n",
      "learned a = 0.1976599097251892\n",
      "learned b = -0.6817175149917603\n",
      "----------\n",
      "learned a = 0.24720901250839233\n",
      "learned b = -0.6317770481109619\n",
      "----------\n",
      "learned a = 0.2965400218963623\n",
      "learned b = -0.5818639397621155\n",
      "----------\n",
      "learned a = 0.3456070125102997\n",
      "learned b = -0.5319831371307373\n",
      "----------\n",
      "learned a = 0.39436230063438416\n",
      "learned b = -0.4821396470069885\n",
      "----------\n",
      "learned a = 0.4427565336227417\n",
      "learned b = -0.4323383569717407\n",
      "----------\n",
      "learned a = 0.4907388389110565\n",
      "learned b = -0.3825841546058655\n"
     ]
    }
   ],
   "source": [
    "# Run training\n",
    "niter = 10\n",
    "for _ in range(0, niter):\n",
    "    optimizer.zero_grad()\n",
    "    predictions = model(x)\n",
    "    loss = loss_fn(predictions, t)\n",
    "    loss.backward()\n",
    "    optimizer.step()\n",
    "\n",
    "    print(\"-\" * 10)\n",
    "    print(\"learned a = {}\".format(list(model.parameters())[0].data[0, 0]))\n",
    "    print(\"learned b = {}\".format(list(model.parameters())[1].data[0]))"
   ]
  }
 ],
 "metadata": {
  "kernelspec": {
   "display_name": "Python [conda env:torch37]",
   "language": "python",
   "name": "conda-env-torch37-py"
  },
  "language_info": {
   "codemirror_mode": {
    "name": "ipython",
    "version": 3
   },
   "file_extension": ".py",
   "mimetype": "text/x-python",
   "name": "python",
   "nbconvert_exporter": "python",
   "pygments_lexer": "ipython3",
   "version": "3.7.9"
  }
 },
 "nbformat": 4,
 "nbformat_minor": 5
}

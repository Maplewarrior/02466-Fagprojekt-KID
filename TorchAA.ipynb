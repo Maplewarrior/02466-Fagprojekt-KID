{
 "cells": [
  {
   "cell_type": "code",
   "execution_count": 241,
   "id": "df0979c9",
   "metadata": {},
   "outputs": [],
   "source": [
    "import numpy as np\n",
    "import pandas as pd\n",
    "\n",
    "import torch\n",
    "import torch.nn as nn\n",
    "import torch.optim as optim\n",
    "from torch.autograd import Variable\n",
    "from timeit import default_timer as timer\n",
    "from scipy.special import softmax\n",
    "\n"
   ]
  },
  {
   "cell_type": "code",
   "execution_count": 242,
   "id": "919a59cf",
   "metadata": {},
   "outputs": [],
   "source": [
    "df = pd.read_csv('ESS8_data.csv')"
   ]
  },
  {
   "cell_type": "code",
   "execution_count": 243,
   "id": "17ef6d81",
   "metadata": {},
   "outputs": [],
   "source": [
    "X = df[['SD1', 'PO1', 'UN1', 'AC1', 'SC1',\n",
    "       'ST1', 'CO1', 'TR1', 'HD1', 'AC2', 'SC2', 'ST2',\n",
    "       'CO2', 'PO2', 'BE2', 'TR2', 'HD2']].iloc[range(100),:]\n",
    "X = X.to_numpy().T\n",
    "N, M = X.T.shape\n",
    "K = 3"
   ]
  },
  {
   "cell_type": "code",
   "execution_count": 244,
   "id": "716a419e",
   "metadata": {},
   "outputs": [],
   "source": [
    "np.random.seed(42)\n",
    "\n",
    "p = np.random.permutation(range(N))[:K]\n",
    "Z = X[:,p]\n",
    "# Z = np.random.randint(1, 6, (M,K)) \n",
    "\n",
    "#Q = Z.T @ Z\n",
    "#Qt = torch.tensor(Q,requires_grad=False).float()\n",
    "\n",
    "R = X.T @ X\n",
    "Rt = torch.tensor(R,requires_grad=False).float()"
   ]
  },
  {
   "cell_type": "code",
   "execution_count": 245,
   "id": "47234b0b",
   "metadata": {},
   "outputs": [],
   "source": [
    "# applies both for eq. 7 and 8\n",
    "def error(a_i,Qt,qt):\n",
    "    return (0.5 * a_i.T @ Qt @ a_i) - (qt.T @ a_i)"
   ]
  },
  {
   "cell_type": "code",
   "execution_count": 246,
   "id": "ec2091d9",
   "metadata": {},
   "outputs": [
    {
     "name": "stdout",
     "output_type": "stream",
     "text": [
      "[1 1 6 1 1 1 1 6 1 1 1 6 1 1 3 1 3]\n"
     ]
    }
   ],
   "source": [
    "def applyConstrains(M):\n",
    "    return softmax(M, axis = 0)\n",
    "\n",
    "\n",
    "\n",
    "def furthestSum(X):\n",
    "    idx = np.random.choice(range(0,N))\n",
    "    x_j = X[:,idx]\n",
    "    max_vals = [0]\n",
    "    max_vals = max_vals * K\n",
    "\n",
    "    b_j = np.empty((K,1))\n",
    "    b_j_norm = np.empty((K,1))\n",
    "\n",
    "    for i in range(N):\n",
    "        val = 0\n",
    "        for j in range(M):\n",
    "            val += np.abs(X[j, i] - x_j[j])\n",
    "        max_idxs = [j for j, v in enumerate(max_vals) if val > v]\n",
    "\n",
    "        if len(max_idxs) > 0:\n",
    "            max_vals[max_idxs[0]] = val\n",
    "    \n",
    "    b_j = b_j.astype(np.float64)\n",
    "            \n",
    "    return b_j\n",
    "\n",
    "\n",
    "        \n",
    "    \n",
    "    \n",
    "print(b_j)    \n"
   ]
  },
  {
   "cell_type": "code",
   "execution_count": 247,
   "id": "62f0513f",
   "metadata": {
    "scrolled": false
   },
   "outputs": [
    {
     "ename": "RuntimeError",
     "evalue": "mat1 and mat2 shapes cannot be multiplied (1x17 and 3x3)",
     "output_type": "error",
     "traceback": [
      "\u001b[1;31m---------------------------------------------------------------------------\u001b[0m",
      "\u001b[1;31mRuntimeError\u001b[0m                              Traceback (most recent call last)",
      "\u001b[1;32m~\\AppData\\Local\\Temp/ipykernel_35372/948025818.py\u001b[0m in \u001b[0;36m<module>\u001b[1;34m\u001b[0m\n\u001b[0;32m     23\u001b[0m         \u001b[0mstep_size\u001b[0m \u001b[1;33m=\u001b[0m \u001b[1;36m0.00001\u001b[0m \u001b[1;31m# stop_loss / 3.0\u001b[0m\u001b[1;33m\u001b[0m\u001b[1;33m\u001b[0m\u001b[0m\n\u001b[0;32m     24\u001b[0m \u001b[1;33m\u001b[0m\u001b[0m\n\u001b[1;32m---> 25\u001b[1;33m         \u001b[0merr\u001b[0m \u001b[1;33m=\u001b[0m \u001b[0merror\u001b[0m\u001b[1;33m(\u001b[0m\u001b[0ma_i\u001b[0m\u001b[1;33m,\u001b[0m\u001b[0mQt\u001b[0m\u001b[1;33m,\u001b[0m\u001b[0mqt\u001b[0m\u001b[1;33m)\u001b[0m\u001b[1;33m\u001b[0m\u001b[1;33m\u001b[0m\u001b[0m\n\u001b[0m\u001b[0;32m     26\u001b[0m         \u001b[0mprint\u001b[0m\u001b[1;33m(\u001b[0m\u001b[1;34m'Loss before: %s'\u001b[0m \u001b[1;33m%\u001b[0m \u001b[1;33m(\u001b[0m\u001b[0mtorch\u001b[0m\u001b[1;33m.\u001b[0m\u001b[0mnorm\u001b[0m\u001b[1;33m(\u001b[0m \u001b[0merr\u001b[0m\u001b[1;33m,\u001b[0m \u001b[0mp\u001b[0m\u001b[1;33m=\u001b[0m\u001b[1;36m2\u001b[0m\u001b[1;33m)\u001b[0m\u001b[1;33m)\u001b[0m\u001b[1;33m)\u001b[0m\u001b[1;33m\u001b[0m\u001b[1;33m\u001b[0m\u001b[0m\n\u001b[0;32m     27\u001b[0m \u001b[1;33m\u001b[0m\u001b[0m\n",
      "\u001b[1;32m~\\AppData\\Local\\Temp/ipykernel_35372/4071995011.py\u001b[0m in \u001b[0;36merror\u001b[1;34m(a_i, Qt, qt)\u001b[0m\n\u001b[0;32m      1\u001b[0m \u001b[1;31m# applies both for eq. 7 and 8\u001b[0m\u001b[1;33m\u001b[0m\u001b[1;33m\u001b[0m\u001b[1;33m\u001b[0m\u001b[0m\n\u001b[0;32m      2\u001b[0m \u001b[1;32mdef\u001b[0m \u001b[0merror\u001b[0m\u001b[1;33m(\u001b[0m\u001b[0ma_i\u001b[0m\u001b[1;33m,\u001b[0m\u001b[0mQt\u001b[0m\u001b[1;33m,\u001b[0m\u001b[0mqt\u001b[0m\u001b[1;33m)\u001b[0m\u001b[1;33m:\u001b[0m\u001b[1;33m\u001b[0m\u001b[1;33m\u001b[0m\u001b[0m\n\u001b[1;32m----> 3\u001b[1;33m     \u001b[1;32mreturn\u001b[0m \u001b[1;33m(\u001b[0m\u001b[1;36m0.5\u001b[0m \u001b[1;33m*\u001b[0m \u001b[0ma_i\u001b[0m\u001b[1;33m.\u001b[0m\u001b[0mT\u001b[0m \u001b[1;33m@\u001b[0m \u001b[0mQt\u001b[0m \u001b[1;33m@\u001b[0m \u001b[0ma_i\u001b[0m\u001b[1;33m)\u001b[0m \u001b[1;33m-\u001b[0m \u001b[1;33m(\u001b[0m\u001b[0mqt\u001b[0m\u001b[1;33m.\u001b[0m\u001b[0mT\u001b[0m \u001b[1;33m@\u001b[0m \u001b[0ma_i\u001b[0m\u001b[1;33m)\u001b[0m\u001b[1;33m\u001b[0m\u001b[1;33m\u001b[0m\u001b[0m\n\u001b[0m",
      "\u001b[1;31mRuntimeError\u001b[0m: mat1 and mat2 shapes cannot be multiplied (1x17 and 3x3)"
     ]
    }
   ],
   "source": [
    "start = timer()\n",
    "torch.manual_seed(42)\n",
    "\n",
    "RSS_values = list()\n",
    "A = np.zeros((K,N))#.tolist()\n",
    "B = np.zeros((N,K))#.tolist()\n",
    "\n",
    "# LOOP UNTIL RSS IS LOW\n",
    "for n in range(2): #N\n",
    "    Q = Z.T @ Z\n",
    "    Qt = torch.tensor(Q,requires_grad=False).float()\n",
    "\n",
    "    # LOOP THROUGH ENTIRE A\n",
    "    for i in range(N):\n",
    "        q = Z.T @ X[:,i]\n",
    "        qt = torch.tensor(q,requires_grad=False).float()\n",
    "        \n",
    "        v = furthestSum(X)\n",
    "        #a_i = torch.tensor(v, requires_grad=True).float()\n",
    "        #a_i = torch.autograd.Variable(torch.rand(K, 1), requires_grad=True) # eller er det Kx1 ?\n",
    "        \n",
    "        stop_loss = 1e-6\n",
    "        step_size = 0.00001 # stop_loss / 3.0\n",
    "\n",
    "        err = error(a_i,Qt,qt)\n",
    "        print('Loss before: %s' % (torch.norm( err, p=2)))\n",
    "\n",
    "        # TRAINING LOOP\n",
    "        for k in range(10000): # 100000\n",
    "            Delta = error(a_i,Qt,qt) \n",
    "            L = torch.norm(Delta, p=2)\n",
    "            L.backward()\n",
    "            a_i.data -= step_size * a_i.grad.data # step\n",
    "            a_i.grad.data.zero_()\n",
    "            if k % 10000 == 0: print('Loss for a is %s at iteration %i' % (L, k))\n",
    "            if abs(L) < stop_loss:\n",
    "                print('It took %s iterations to achieve %s loss.' % (k, step_size))\n",
    "                break\n",
    "        \n",
    "        A[:,i] = np.array(a_i.tolist()).flatten() \n",
    "        \n",
    "        # print('Loss after: %s' % (torch.norm( error(a_i,Qt,qt) )))\n",
    "\n",
    "    ### apply softmax here? ###\n",
    "    \n",
    "    A = applyConstrains(A)\n",
    "    Z = X @ A.T @ np.linalg.inv(A@A.T)\n",
    "    \n",
    "    # LOOP THROUGH ENTIRE B\n",
    "    for i in range(K): #K\n",
    "        r = X.T @ Z[:,i]\n",
    "        rt = torch.tensor(r,requires_grad=False).float()\n",
    "\n",
    "        b_i = torch.autograd.Variable(torch.rand(N, 1), requires_grad=True) \n",
    "\n",
    "        stop_loss = 1e-6\n",
    "        step_size = 0.00001 # stop_loss / 3.0\n",
    "\n",
    "        err = error(b_i,Rt,rt)\n",
    "        print('Loss before: %s' % (torch.norm( err, p=2)))\n",
    "\n",
    "        # TRAINING LOOP\n",
    "        for k in range(10000): # 100000\n",
    "            Delta = error(b_i,Rt,rt)\n",
    "            L = torch.norm(Delta, p=2)\n",
    "            L.backward()\n",
    "            b_i.data -= step_size * b_i.grad.data # step\n",
    "            b_i.grad.data.zero_()\n",
    "            if k % 10000 == 0: print('Loss for b is %s at iteration %i' % (L, k))\n",
    "            if abs(L) < stop_loss:\n",
    "                print('It took %s iterations to achieve %s loss.' % (k, step_size))\n",
    "                break\n",
    "\n",
    "        B[:,i] = np.array(b_i.tolist()).flatten() \n",
    "        #print('Loss after: %s' % (torch.norm( error(b_i,Rt,rt) )))    \n",
    "    \n",
    "    # apply softmax here\n",
    "    B = applyConstrains(B)\n",
    "    Z = X @ B\n",
    "    \n",
    "    Zt = torch.tensor(Z, requires_grad=False).float()\n",
    "    At = torch.tensor(A, requires_grad=False).float()\n",
    "    Xt = torch.tensor(X,requires_grad=False).float()\n",
    "    print(\"RSS at n=%s\" % n, torch.norm(Xt-Zt@At,p='fro'))\n",
    "    RSS_values.append( torch.norm(Xt-Zt@At,p='fro'))\n",
    "    \n",
    "end = timer()\n",
    "\n",
    "print(\"It took: {0} seconds to finish running\".format(end - start))\n",
    "print(\"The best RSS value was\", min(RSS_values))"
   ]
  },
  {
   "cell_type": "markdown",
   "id": "d9adbd8a",
   "metadata": {},
   "source": [
    "### Time at different data sizes\n",
    "### Here we run 1000 inner loops and 10 in the outer\n",
    "#### For X = 3 x 17  \n",
    "##### It took: 17.8 seconds\n",
    "\n",
    "\n",
    "#### For X = 6 x 17  \n",
    "##### It took: 28.08 seconds\n",
    "\n",
    "\n",
    "#### For X = 12 x 17\n",
    "#### It took: 48 seconds\n",
    "\n",
    "\n"
   ]
  },
  {
   "cell_type": "code",
   "execution_count": 248,
   "id": "2cfbdba8",
   "metadata": {},
   "outputs": [],
   "source": [
    "def furthestSum(X):\n",
    "    idx = np.random.choice(range(0,N))\n",
    "    x_j = X[:,idx]\n",
    "    max_vals = [0]\n",
    "    max_vals = max_vals * K\n",
    "\n",
    "    b_j = np.empty((K,1))\n",
    "    b_j_norm = np.empty((K,1))\n",
    "\n",
    "    for i in range(N):\n",
    "        val = 0\n",
    "        for j in range(M):\n",
    "            val += np.abs(X[j, i] - x_j[j])\n",
    "        max_idxs = [j for j, v in enumerate(max_vals) if val > v]\n",
    "\n",
    "        if len(max_idxs) > 0:\n",
    "            max_vals[max_idxs[0]] = val\n",
    "            b_j = X[:, i]\n",
    "            \n",
    "    return b_j"
   ]
  },
  {
   "cell_type": "code",
   "execution_count": 250,
   "id": "4c21245b",
   "metadata": {},
   "outputs": [
    {
     "data": {
      "text/plain": [
       "[34, 83, 0, 83]"
      ]
     },
     "execution_count": 250,
     "metadata": {},
     "output_type": "execute_result"
    }
   ],
   "source": [
    "# Choose a random point for initialization\n",
    "idx = int(np.random.choice(range(0,N)))\n",
    "x_j = X[:,idx]\n",
    "\n",
    "j_news = list()\n",
    "j_news.append(idx)\n",
    "excluded = list()\n",
    "\n",
    "# Loop over the K archetypes\n",
    "for n in range(K):\n",
    "    best_val = 0\n",
    "    best_idx = 0\n",
    "    # Loop over all unseen samples\n",
    "    for i in range(N):\n",
    "        val = 0\n",
    "        # sum over each element for each point\n",
    "        for a in range(len(j_news)):\n",
    "            for j in range(M):\n",
    "                val += np.abs(X[j,i] - X[j , j_news[n]])\n",
    "        if val > best_val:\n",
    "            best_val = val\n",
    "            best_idx = i\n",
    "    \n",
    "    \n",
    "    j_news.append(best_idx)\n",
    "            \n",
    "        \n",
    "            \n",
    "\n",
    "            \n",
    "    \n",
    "\n",
    "#for i in range(N):\n",
    "#    val = 0\n",
    "#    for i in range(M):\n",
    "#        val+= np.abs(X[j,i] - x_j[j])\n",
    "#    \n",
    "#    if val > current_best:\n",
    "#        current_best = val\n",
    "#        best_indexes.append(i)\n",
    "#print(best_indexes)\n",
    "#b_j = np.array([best_indexes[-3],best_indexes[-2],best_indexes[-1]])\n",
    "\n"
   ]
  },
  {
   "cell_type": "code",
   "execution_count": 127,
   "id": "ac3791af",
   "metadata": {},
   "outputs": [],
   "source": [
    "Y = np.zeros((2,3))"
   ]
  },
  {
   "cell_type": "code",
   "execution_count": 182,
   "id": "200414b6",
   "metadata": {},
   "outputs": [],
   "source": [
    "Y[:,1] = np.array([1,1])"
   ]
  },
  {
   "cell_type": "code",
   "execution_count": 183,
   "id": "9aae0611",
   "metadata": {},
   "outputs": [
    {
     "data": {
      "text/plain": [
       "array([[0., 1., 0.],\n",
       "       [0., 1., 0.]])"
      ]
     },
     "execution_count": 183,
     "metadata": {},
     "output_type": "execute_result"
    }
   ],
   "source": [
    "Y"
   ]
  },
  {
   "cell_type": "code",
   "execution_count": 41,
   "id": "291d0c81",
   "metadata": {},
   "outputs": [],
   "source": [
    "A = torch.rand(2, 2, requires_grad=False)\n",
    "b = torch.rand(2, 1,  requires_grad=False)"
   ]
  },
  {
   "cell_type": "code",
   "execution_count": 238,
   "id": "3aedd449",
   "metadata": {},
   "outputs": [
    {
     "name": "stdout",
     "output_type": "stream",
     "text": [
      "[                  48    48303276873128664 -9223372036854775808\n",
      "                    0]\n"
     ]
    }
   ],
   "source": [
    "idx = int(np.random.choice(range(0,N)))\n",
    "x_j = X[:,idx]\n",
    "\n",
    "j_news = np.empty(K+1)\n",
    "j_news = j_news.astype(np.int64)\n",
    "j_news[0] = idx\n",
    "\n",
    "\n",
    "best_val = 0\n",
    "best_idx = 0\n",
    "for i in range(N):\n",
    "    val = 0\n",
    "    # sum over each element for each point\n",
    "    for j in range(M): \n",
    "        val += np.abs(X[j,i] - X[j , j_news[0]])\n",
    "        if val > best_val:\n",
    "            best_val = val\n",
    "            best_idx = i\n",
    "                    \n",
    "    j_news[0] = best_idx\n",
    "print(j_news)"
   ]
  },
  {
   "cell_type": "code",
   "execution_count": null,
   "id": "7aedfe73",
   "metadata": {},
   "outputs": [],
   "source": []
  }
 ],
 "metadata": {
  "kernelspec": {
   "display_name": "Python 3 (ipykernel)",
   "language": "python",
   "name": "python3"
  },
  "language_info": {
   "codemirror_mode": {
    "name": "ipython",
    "version": 3
   },
   "file_extension": ".py",
   "mimetype": "text/x-python",
   "name": "python",
   "nbconvert_exporter": "python",
   "pygments_lexer": "ipython3",
   "version": "3.8.5"
  }
 },
 "nbformat": 4,
 "nbformat_minor": 5
}

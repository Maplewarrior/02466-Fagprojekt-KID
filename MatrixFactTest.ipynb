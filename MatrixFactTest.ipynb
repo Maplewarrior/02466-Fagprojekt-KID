{
 "cells": [
  {
   "cell_type": "code",
   "execution_count": 5,
   "metadata": {},
   "outputs": [],
   "source": [
    "import numpy as np\n",
    "import pandas as pd\n",
    "from aa import AA"
   ]
  },
  {
   "cell_type": "code",
   "execution_count": 3,
   "metadata": {},
   "outputs": [],
   "source": [
    "df = pd.read_csv('ESS8_data.csv')"
   ]
  },
  {
   "cell_type": "code",
   "execution_count": 97,
   "metadata": {},
   "outputs": [],
   "source": [
    "X = df[['SD1', 'PO1', 'UN1', 'AC1', 'SC1',\n",
    "       'ST1', 'CO1', 'TR1', 'HD1', 'AC2', 'SC2', 'ST2',\n",
    "       'CO2', 'PO2', 'BE2', 'TR2', 'HD2']]#.iloc[range(100),:]\n",
    "X = X.to_numpy().T\n",
    "N, M = X.T.shape\n",
    "K = 9"
   ]
  },
  {
   "cell_type": "markdown",
   "metadata": {},
   "source": [
    "data = X\n",
    "W = Z\n",
    "H = A\n",
    "beta = B"
   ]
  },
  {
   "cell_type": "code",
   "execution_count": 98,
   "metadata": {},
   "outputs": [],
   "source": [
    "aa_mdl = AA(X.T, num_bases=K)"
   ]
  },
  {
   "cell_type": "code",
   "execution_count": 111,
   "metadata": {
    "scrolled": false
   },
   "outputs": [
    {
     "name": "stderr",
     "output_type": "stream",
     "text": [
      "2022-03-02 16:05:05,269 [INFO] FN: 569.7945687943471 (1/1000)\n",
      "2022-03-02 16:05:05,384 [INFO] FN: 569.7945687943471 (2/1000)\n",
      "2022-03-02 16:05:05,527 [INFO] FN: 569.7945687943471 (3/1000)\n"
     ]
    }
   ],
   "source": [
    "aa_mdl.factorize(niter=1000,show_progress=True)"
   ]
  },
  {
   "cell_type": "code",
   "execution_count": 77,
   "metadata": {},
   "outputs": [],
   "source": [
    "X=pd.DataFrame(aa_mdl.W@aa_mdl.H)"
   ]
  },
  {
   "cell_type": "code",
   "execution_count": 78,
   "metadata": {},
   "outputs": [],
   "source": [
    "A=pd.DataFrame(aa_mdl.H)"
   ]
  },
  {
   "cell_type": "code",
   "execution_count": 79,
   "metadata": {},
   "outputs": [],
   "source": [
    "Z=pd.DataFrame(aa_mdl.W)"
   ]
  },
  {
   "cell_type": "code",
   "execution_count": 80,
   "metadata": {},
   "outputs": [
    {
     "data": {
      "text/plain": [
       "122.39658176828667"
      ]
     },
     "execution_count": 80,
     "metadata": {},
     "output_type": "execute_result"
    }
   ],
   "source": [
    "np.linalg.norm(Z@A)"
   ]
  },
  {
   "cell_type": "code",
   "execution_count": 81,
   "metadata": {},
   "outputs": [
    {
     "data": {
      "text/plain": [
       "122.39658176828667"
      ]
     },
     "execution_count": 81,
     "metadata": {},
     "output_type": "execute_result"
    }
   ],
   "source": [
    "np.linalg.norm(X)"
   ]
  },
  {
   "cell_type": "code",
   "execution_count": 90,
   "metadata": {},
   "outputs": [
    {
     "data": {
      "text/html": [
       "<div>\n",
       "<style scoped>\n",
       "    .dataframe tbody tr th:only-of-type {\n",
       "        vertical-align: middle;\n",
       "    }\n",
       "\n",
       "    .dataframe tbody tr th {\n",
       "        vertical-align: top;\n",
       "    }\n",
       "\n",
       "    .dataframe thead th {\n",
       "        text-align: right;\n",
       "    }\n",
       "</style>\n",
       "<table border=\"1\" class=\"dataframe\">\n",
       "  <thead>\n",
       "    <tr style=\"text-align: right;\">\n",
       "      <th></th>\n",
       "      <th>0</th>\n",
       "      <th>1</th>\n",
       "      <th>2</th>\n",
       "      <th>3</th>\n",
       "      <th>4</th>\n",
       "      <th>5</th>\n",
       "      <th>6</th>\n",
       "      <th>7</th>\n",
       "      <th>8</th>\n",
       "      <th>9</th>\n",
       "      <th>10</th>\n",
       "      <th>11</th>\n",
       "      <th>12</th>\n",
       "      <th>13</th>\n",
       "      <th>14</th>\n",
       "      <th>15</th>\n",
       "      <th>16</th>\n",
       "    </tr>\n",
       "  </thead>\n",
       "  <tbody>\n",
       "    <tr>\n",
       "      <th>0</th>\n",
       "      <td>0.000085</td>\n",
       "      <td>4.152926e-09</td>\n",
       "      <td>9.238926e-03</td>\n",
       "      <td>3.206141e-06</td>\n",
       "      <td>4.080264e-01</td>\n",
       "      <td>6.218394e-09</td>\n",
       "      <td>4.278395e-08</td>\n",
       "      <td>1.432375e-08</td>\n",
       "      <td>6.345593e-06</td>\n",
       "      <td>1.845377e-07</td>\n",
       "      <td>6.414746e-02</td>\n",
       "      <td>-6.643976e-10</td>\n",
       "      <td>1.163917e-01</td>\n",
       "      <td>3.810768e-01</td>\n",
       "      <td>9.999945e-01</td>\n",
       "      <td>1.113907e-01</td>\n",
       "      <td>1.138392e-08</td>\n",
       "    </tr>\n",
       "    <tr>\n",
       "      <th>1</th>\n",
       "      <td>0.000074</td>\n",
       "      <td>7.946317e-01</td>\n",
       "      <td>1.405863e-08</td>\n",
       "      <td>2.681819e-08</td>\n",
       "      <td>5.969652e-09</td>\n",
       "      <td>1.646549e-01</td>\n",
       "      <td>9.434768e-02</td>\n",
       "      <td>5.871066e-07</td>\n",
       "      <td>4.109273e-08</td>\n",
       "      <td>2.110248e-01</td>\n",
       "      <td>-1.147052e-09</td>\n",
       "      <td>1.000000e+00</td>\n",
       "      <td>-6.195779e-09</td>\n",
       "      <td>2.751904e-02</td>\n",
       "      <td>3.562542e-06</td>\n",
       "      <td>1.557208e-06</td>\n",
       "      <td>5.102064e-09</td>\n",
       "    </tr>\n",
       "    <tr>\n",
       "      <th>2</th>\n",
       "      <td>0.000060</td>\n",
       "      <td>2.053679e-01</td>\n",
       "      <td>1.292779e-07</td>\n",
       "      <td>4.466351e-08</td>\n",
       "      <td>3.002288e-07</td>\n",
       "      <td>6.428067e-10</td>\n",
       "      <td>5.749318e-01</td>\n",
       "      <td>2.035440e-08</td>\n",
       "      <td>7.057645e-08</td>\n",
       "      <td>2.914255e-03</td>\n",
       "      <td>-9.123519e-10</td>\n",
       "      <td>-6.574872e-10</td>\n",
       "      <td>8.836040e-01</td>\n",
       "      <td>2.461956e-01</td>\n",
       "      <td>6.272730e-08</td>\n",
       "      <td>7.802836e-01</td>\n",
       "      <td>1.447857e-08</td>\n",
       "    </tr>\n",
       "    <tr>\n",
       "      <th>3</th>\n",
       "      <td>0.000037</td>\n",
       "      <td>7.964771e-09</td>\n",
       "      <td>3.149538e-06</td>\n",
       "      <td>1.267565e-06</td>\n",
       "      <td>1.242615e-01</td>\n",
       "      <td>-9.635126e-10</td>\n",
       "      <td>5.039150e-02</td>\n",
       "      <td>9.999993e-01</td>\n",
       "      <td>9.524843e-07</td>\n",
       "      <td>3.962572e-08</td>\n",
       "      <td>-9.400100e-10</td>\n",
       "      <td>-5.921095e-10</td>\n",
       "      <td>-2.545523e-09</td>\n",
       "      <td>1.437232e-02</td>\n",
       "      <td>1.167613e-07</td>\n",
       "      <td>6.105930e-02</td>\n",
       "      <td>1.178451e-08</td>\n",
       "    </tr>\n",
       "    <tr>\n",
       "      <th>4</th>\n",
       "      <td>0.000105</td>\n",
       "      <td>7.045041e-09</td>\n",
       "      <td>4.280621e-08</td>\n",
       "      <td>6.348712e-08</td>\n",
       "      <td>1.484282e-07</td>\n",
       "      <td>4.729724e-01</td>\n",
       "      <td>1.221757e-07</td>\n",
       "      <td>3.884523e-08</td>\n",
       "      <td>5.419766e-01</td>\n",
       "      <td>2.645469e-02</td>\n",
       "      <td>-6.625080e-10</td>\n",
       "      <td>3.338156e-09</td>\n",
       "      <td>-5.539405e-09</td>\n",
       "      <td>2.232777e-02</td>\n",
       "      <td>6.672645e-07</td>\n",
       "      <td>1.268998e-07</td>\n",
       "      <td>9.999999e-01</td>\n",
       "    </tr>\n",
       "    <tr>\n",
       "      <th>5</th>\n",
       "      <td>0.000139</td>\n",
       "      <td>3.795957e-09</td>\n",
       "      <td>9.907553e-01</td>\n",
       "      <td>3.223098e-07</td>\n",
       "      <td>9.394870e-02</td>\n",
       "      <td>1.694673e-01</td>\n",
       "      <td>4.502973e-08</td>\n",
       "      <td>1.625370e-08</td>\n",
       "      <td>3.790308e-02</td>\n",
       "      <td>6.405566e-08</td>\n",
       "      <td>-1.657353e-09</td>\n",
       "      <td>-2.774444e-10</td>\n",
       "      <td>7.545923e-09</td>\n",
       "      <td>2.916230e-07</td>\n",
       "      <td>2.945621e-07</td>\n",
       "      <td>2.596326e-07</td>\n",
       "      <td>5.113094e-09</td>\n",
       "    </tr>\n",
       "    <tr>\n",
       "      <th>6</th>\n",
       "      <td>0.000181</td>\n",
       "      <td>1.750631e-08</td>\n",
       "      <td>6.823167e-08</td>\n",
       "      <td>9.999949e-01</td>\n",
       "      <td>1.720870e-07</td>\n",
       "      <td>1.364702e-08</td>\n",
       "      <td>1.848659e-06</td>\n",
       "      <td>2.878233e-08</td>\n",
       "      <td>1.180875e-07</td>\n",
       "      <td>3.742487e-01</td>\n",
       "      <td>-8.763856e-10</td>\n",
       "      <td>-4.879749e-10</td>\n",
       "      <td>-1.702563e-09</td>\n",
       "      <td>2.594548e-01</td>\n",
       "      <td>3.377688e-07</td>\n",
       "      <td>3.123688e-08</td>\n",
       "      <td>1.295724e-09</td>\n",
       "    </tr>\n",
       "    <tr>\n",
       "      <th>7</th>\n",
       "      <td>0.999260</td>\n",
       "      <td>3.521937e-07</td>\n",
       "      <td>6.660163e-08</td>\n",
       "      <td>4.390414e-08</td>\n",
       "      <td>5.918865e-09</td>\n",
       "      <td>1.929053e-01</td>\n",
       "      <td>6.470036e-08</td>\n",
       "      <td>2.433732e-08</td>\n",
       "      <td>9.832265e-02</td>\n",
       "      <td>2.127226e-01</td>\n",
       "      <td>-6.017825e-10</td>\n",
       "      <td>-6.159908e-10</td>\n",
       "      <td>-4.517184e-09</td>\n",
       "      <td>6.634196e-07</td>\n",
       "      <td>4.349047e-07</td>\n",
       "      <td>4.723516e-02</td>\n",
       "      <td>2.014695e-10</td>\n",
       "    </tr>\n",
       "    <tr>\n",
       "      <th>8</th>\n",
       "      <td>0.000060</td>\n",
       "      <td>6.245605e-09</td>\n",
       "      <td>2.274954e-06</td>\n",
       "      <td>1.741842e-07</td>\n",
       "      <td>3.737627e-01</td>\n",
       "      <td>2.779763e-09</td>\n",
       "      <td>2.803269e-01</td>\n",
       "      <td>1.346104e-08</td>\n",
       "      <td>3.217901e-01</td>\n",
       "      <td>1.726347e-01</td>\n",
       "      <td>9.358525e-01</td>\n",
       "      <td>-1.050056e-09</td>\n",
       "      <td>4.381210e-06</td>\n",
       "      <td>4.905264e-02</td>\n",
       "      <td>5.496317e-08</td>\n",
       "      <td>2.931105e-05</td>\n",
       "      <td>1.630924e-08</td>\n",
       "    </tr>\n",
       "  </tbody>\n",
       "</table>\n",
       "</div>"
      ],
      "text/plain": [
       "         0             1             2             3             4   \\\n",
       "0  0.000085  4.152926e-09  9.238926e-03  3.206141e-06  4.080264e-01   \n",
       "1  0.000074  7.946317e-01  1.405863e-08  2.681819e-08  5.969652e-09   \n",
       "2  0.000060  2.053679e-01  1.292779e-07  4.466351e-08  3.002288e-07   \n",
       "3  0.000037  7.964771e-09  3.149538e-06  1.267565e-06  1.242615e-01   \n",
       "4  0.000105  7.045041e-09  4.280621e-08  6.348712e-08  1.484282e-07   \n",
       "5  0.000139  3.795957e-09  9.907553e-01  3.223098e-07  9.394870e-02   \n",
       "6  0.000181  1.750631e-08  6.823167e-08  9.999949e-01  1.720870e-07   \n",
       "7  0.999260  3.521937e-07  6.660163e-08  4.390414e-08  5.918865e-09   \n",
       "8  0.000060  6.245605e-09  2.274954e-06  1.741842e-07  3.737627e-01   \n",
       "\n",
       "             5             6             7             8             9   \\\n",
       "0  6.218394e-09  4.278395e-08  1.432375e-08  6.345593e-06  1.845377e-07   \n",
       "1  1.646549e-01  9.434768e-02  5.871066e-07  4.109273e-08  2.110248e-01   \n",
       "2  6.428067e-10  5.749318e-01  2.035440e-08  7.057645e-08  2.914255e-03   \n",
       "3 -9.635126e-10  5.039150e-02  9.999993e-01  9.524843e-07  3.962572e-08   \n",
       "4  4.729724e-01  1.221757e-07  3.884523e-08  5.419766e-01  2.645469e-02   \n",
       "5  1.694673e-01  4.502973e-08  1.625370e-08  3.790308e-02  6.405566e-08   \n",
       "6  1.364702e-08  1.848659e-06  2.878233e-08  1.180875e-07  3.742487e-01   \n",
       "7  1.929053e-01  6.470036e-08  2.433732e-08  9.832265e-02  2.127226e-01   \n",
       "8  2.779763e-09  2.803269e-01  1.346104e-08  3.217901e-01  1.726347e-01   \n",
       "\n",
       "             10            11            12            13            14  \\\n",
       "0  6.414746e-02 -6.643976e-10  1.163917e-01  3.810768e-01  9.999945e-01   \n",
       "1 -1.147052e-09  1.000000e+00 -6.195779e-09  2.751904e-02  3.562542e-06   \n",
       "2 -9.123519e-10 -6.574872e-10  8.836040e-01  2.461956e-01  6.272730e-08   \n",
       "3 -9.400100e-10 -5.921095e-10 -2.545523e-09  1.437232e-02  1.167613e-07   \n",
       "4 -6.625080e-10  3.338156e-09 -5.539405e-09  2.232777e-02  6.672645e-07   \n",
       "5 -1.657353e-09 -2.774444e-10  7.545923e-09  2.916230e-07  2.945621e-07   \n",
       "6 -8.763856e-10 -4.879749e-10 -1.702563e-09  2.594548e-01  3.377688e-07   \n",
       "7 -6.017825e-10 -6.159908e-10 -4.517184e-09  6.634196e-07  4.349047e-07   \n",
       "8  9.358525e-01 -1.050056e-09  4.381210e-06  4.905264e-02  5.496317e-08   \n",
       "\n",
       "             15            16  \n",
       "0  1.113907e-01  1.138392e-08  \n",
       "1  1.557208e-06  5.102064e-09  \n",
       "2  7.802836e-01  1.447857e-08  \n",
       "3  6.105930e-02  1.178451e-08  \n",
       "4  1.268998e-07  9.999999e-01  \n",
       "5  2.596326e-07  5.113094e-09  \n",
       "6  3.123688e-08  1.295724e-09  \n",
       "7  4.723516e-02  2.014695e-10  \n",
       "8  2.931105e-05  1.630924e-08  "
      ]
     },
     "execution_count": 90,
     "metadata": {},
     "output_type": "execute_result"
    }
   ],
   "source": [
    "A"
   ]
  },
  {
   "cell_type": "code",
   "execution_count": null,
   "metadata": {},
   "outputs": [],
   "source": []
  }
 ],
 "metadata": {
  "kernelspec": {
   "display_name": "Python 3 (ipykernel)",
   "language": "python",
   "name": "python3"
  },
  "language_info": {
   "codemirror_mode": {
    "name": "ipython",
    "version": 3
   },
   "file_extension": ".py",
   "mimetype": "text/x-python",
   "name": "python",
   "nbconvert_exporter": "python",
   "pygments_lexer": "ipython3",
   "version": "3.8.12"
  }
 },
 "nbformat": 4,
 "nbformat_minor": 4
}

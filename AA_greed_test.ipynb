{
 "cells": [
  {
   "cell_type": "code",
   "execution_count": 191,
   "id": "7fac6795",
   "metadata": {},
   "outputs": [],
   "source": [
    "import numpy as np\n",
    "import pandas as pd"
   ]
  },
  {
   "cell_type": "code",
   "execution_count": 192,
   "id": "a5a6a7da",
   "metadata": {},
   "outputs": [],
   "source": [
    "df = pd.read_csv('ESS8_data.csv')"
   ]
  },
  {
   "cell_type": "code",
   "execution_count": 193,
   "id": "5bdfb44a",
   "metadata": {},
   "outputs": [],
   "source": [
    "X = df[['SD1', 'PO1', 'UN1', 'AC1', 'SC1',\n",
    "       'ST1', 'CO1', 'TR1', 'HD1', 'AC2', 'SC2', 'ST2',\n",
    "       'CO2', 'PO2', 'BE2', 'TR2', 'HD2']].iloc[range(100),:]\n",
    "X = X.to_numpy().T\n",
    "N, M = X.T.shape\n",
    "K = 9"
   ]
  },
  {
   "cell_type": "markdown",
   "id": "d56efaaa",
   "metadata": {},
   "source": [
    "### Initialize Z randomly"
   ]
  },
  {
   "cell_type": "code",
   "execution_count": 194,
   "id": "a8dbfca8",
   "metadata": {},
   "outputs": [],
   "source": [
    "Z = np.random.randint(1, 6, (M,K)) "
   ]
  },
  {
   "cell_type": "markdown",
   "id": "bbbec7be",
   "metadata": {},
   "source": [
    "# Algorithm 1 - Compute A"
   ]
  },
  {
   "cell_type": "markdown",
   "id": "17558146",
   "metadata": {},
   "source": [
    "### Initialize A with unit vectors"
   ]
  },
  {
   "cell_type": "code",
   "execution_count": 195,
   "id": "23f99d2a",
   "metadata": {},
   "outputs": [],
   "source": [
    "def unitA(i):\n",
    "    l = [0]*K\n",
    "    l[i-1]=1\n",
    "    return np.array(l)"
   ]
  },
  {
   "cell_type": "code",
   "execution_count": 196,
   "id": "53eb85ea",
   "metadata": {},
   "outputs": [
    {
     "data": {
      "text/plain": [
       "(9, 100)"
      ]
     },
     "execution_count": 196,
     "metadata": {},
     "output_type": "execute_result"
    }
   ],
   "source": [
    "A = [] # k X n\n",
    "for i in range(N):\n",
    "    A.append(unitA(1))  \n",
    "A=np.array(A).T\n",
    "A.shape"
   ]
  },
  {
   "cell_type": "markdown",
   "id": "a557bb56",
   "metadata": {},
   "source": [
    "### Compute A"
   ]
  },
  {
   "cell_type": "code",
   "execution_count": 210,
   "id": "657cde1d",
   "metadata": {},
   "outputs": [],
   "source": [
    "t = 0\n",
    "tmax = 1000\n",
    "while t < tmax:\n",
    "    G = 2*( Z.T@Z@A - Z.T@X )\n",
    "    for i in range(N):\n",
    "        j = np.argmin(G[:,i])\n",
    "        A[:,i] = A[:,i] + 2/(t+2) * (unitA(j)-A[:,i])\n",
    "    t+=1"
   ]
  },
  {
   "cell_type": "markdown",
   "id": "a60da4c6",
   "metadata": {},
   "source": [
    "# Algorithm 2 - Compute B"
   ]
  },
  {
   "cell_type": "code",
   "execution_count": 198,
   "id": "c23c842a",
   "metadata": {},
   "outputs": [],
   "source": [
    "def unitB(i):\n",
    "    l = [0]*N\n",
    "    l[i-1]=1\n",
    "    return np.array(l)"
   ]
  },
  {
   "cell_type": "code",
   "execution_count": 199,
   "id": "69cb7004",
   "metadata": {},
   "outputs": [
    {
     "data": {
      "text/plain": [
       "(100, 9)"
      ]
     },
     "execution_count": 199,
     "metadata": {},
     "output_type": "execute_result"
    }
   ],
   "source": [
    "B = [] # n X k\n",
    "for i in range(K):\n",
    "    B.append(unitB(1))  \n",
    "B=np.array(B).T\n",
    "B.shape"
   ]
  },
  {
   "cell_type": "markdown",
   "id": "fb0d8c22",
   "metadata": {},
   "source": [
    "### Compute B"
   ]
  },
  {
   "cell_type": "code",
   "execution_count": 211,
   "id": "1de2d139",
   "metadata": {},
   "outputs": [],
   "source": [
    "t = 0\n",
    "tmax = 1000\n",
    "while t < tmax:\n",
    "    G = 2*( X.T@X@B@A@A.T - X.T@X@A.T )\n",
    "    for j in range(K):\n",
    "        i = np.argmin(G[:,j])\n",
    "        B[:,j] = B[:,j] + 2/(t+2) * (unitB(i)-B[:,j])\n",
    "    t+=1"
   ]
  },
  {
   "cell_type": "code",
   "execution_count": 212,
   "id": "e6397be2",
   "metadata": {},
   "outputs": [],
   "source": [
    "Z=X@B"
   ]
  },
  {
   "cell_type": "code",
   "execution_count": 213,
   "id": "380eefcd",
   "metadata": {},
   "outputs": [
    {
     "data": {
      "text/plain": [
       "126.70438035048355"
      ]
     },
     "execution_count": 213,
     "metadata": {},
     "output_type": "execute_result"
    }
   ],
   "source": [
    "np.linalg.norm(X - X@B@A)"
   ]
  }
 ],
 "metadata": {
  "kernelspec": {
   "display_name": "Python 3.8.5 64-bit ('base': conda)",
   "language": "python",
   "name": "python385jvsc74a57bd02ab80d8c8e12409574a1ba0102ddef8d15e17b37143f84f789eaf91f7df02fb3"
  },
  "language_info": {
   "codemirror_mode": {
    "name": "ipython",
    "version": 3
   },
   "file_extension": ".py",
   "mimetype": "text/x-python",
   "name": "python",
   "nbconvert_exporter": "python",
   "pygments_lexer": "ipython3",
   "version": "3.8.2"
  }
 },
 "nbformat": 4,
 "nbformat_minor": 5
}

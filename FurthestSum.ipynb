{
 "cells": [
  {
   "cell_type": "code",
   "execution_count": 153,
   "metadata": {},
   "outputs": [],
   "source": [
    "import numpy as np\n",
    "from matplotlib import pyplot as plt"
   ]
  },
  {
   "cell_type": "code",
   "execution_count": 154,
   "metadata": {},
   "outputs": [],
   "source": [
    "np.random.seed(42)\n",
    "N,M,K = 50, 2, 5  # subjects, variables, archetyoes\n",
    "X = np.random.rand(N,M)"
   ]
  },
  {
   "cell_type": "code",
   "execution_count": 155,
   "metadata": {
    "scrolled": true
   },
   "outputs": [
    {
     "data": {
      "text/plain": [
       "array([[0.37454012, 0.95071431],\n",
       "       [0.73199394, 0.59865848],\n",
       "       [0.15601864, 0.15599452],\n",
       "       [0.05808361, 0.86617615],\n",
       "       [0.60111501, 0.70807258],\n",
       "       [0.02058449, 0.96990985],\n",
       "       [0.83244264, 0.21233911],\n",
       "       [0.18182497, 0.18340451],\n",
       "       [0.30424224, 0.52475643],\n",
       "       [0.43194502, 0.29122914],\n",
       "       [0.61185289, 0.13949386],\n",
       "       [0.29214465, 0.36636184],\n",
       "       [0.45606998, 0.78517596],\n",
       "       [0.19967378, 0.51423444],\n",
       "       [0.59241457, 0.04645041],\n",
       "       [0.60754485, 0.17052412],\n",
       "       [0.06505159, 0.94888554],\n",
       "       [0.96563203, 0.80839735],\n",
       "       [0.30461377, 0.09767211],\n",
       "       [0.68423303, 0.44015249],\n",
       "       [0.12203823, 0.49517691],\n",
       "       [0.03438852, 0.9093204 ],\n",
       "       [0.25877998, 0.66252228],\n",
       "       [0.31171108, 0.52006802],\n",
       "       [0.54671028, 0.18485446],\n",
       "       [0.96958463, 0.77513282],\n",
       "       [0.93949894, 0.89482735],\n",
       "       [0.59789998, 0.92187424],\n",
       "       [0.0884925 , 0.19598286],\n",
       "       [0.04522729, 0.32533033],\n",
       "       [0.38867729, 0.27134903],\n",
       "       [0.82873751, 0.35675333],\n",
       "       [0.28093451, 0.54269608],\n",
       "       [0.14092422, 0.80219698],\n",
       "       [0.07455064, 0.98688694],\n",
       "       [0.77224477, 0.19871568],\n",
       "       [0.00552212, 0.81546143],\n",
       "       [0.70685734, 0.72900717],\n",
       "       [0.77127035, 0.07404465],\n",
       "       [0.35846573, 0.11586906],\n",
       "       [0.86310343, 0.62329813],\n",
       "       [0.33089802, 0.06355835],\n",
       "       [0.31098232, 0.32518332],\n",
       "       [0.72960618, 0.63755747],\n",
       "       [0.88721274, 0.47221493],\n",
       "       [0.11959425, 0.71324479],\n",
       "       [0.76078505, 0.5612772 ],\n",
       "       [0.77096718, 0.4937956 ],\n",
       "       [0.52273283, 0.42754102],\n",
       "       [0.02541913, 0.10789143]])"
      ]
     },
     "execution_count": 155,
     "metadata": {},
     "output_type": "execute_result"
    }
   ],
   "source": [
    "X"
   ]
  },
  {
   "cell_type": "code",
   "execution_count": 156,
   "metadata": {},
   "outputs": [],
   "source": [
    "np.random.seed(42)\n",
    "\n",
    "plt.ioff()\n",
    "\n",
    "fig = plt.figure()\n",
    "ax1 = fig.add_subplot(111)\n",
    "ax1.scatter(X[:,0],X[:,1])\n",
    "\n",
    "# random point\n",
    "idx = np.random.randint(N, size=1)\n",
    "r = X[idx,:][0]\n",
    "ax1.scatter(r[0], r[1],c='r')\n",
    "#plt.show()\n",
    "\n",
    "# clusters\n",
    "C = [r]"
   ]
  },
  {
   "cell_type": "code",
   "execution_count": 157,
   "metadata": {},
   "outputs": [],
   "source": [
    "dist = lambda a,b : np.linalg.norm(a-b)"
   ]
  },
  {
   "cell_type": "code",
   "execution_count": 158,
   "metadata": {},
   "outputs": [],
   "source": [
    "def new_cluster(C):\n",
    "    min_dist = 0\n",
    "    best_point = C[0]\n",
    "    for p in X:\n",
    "        d_sum = 0\n",
    "        for cluster in C:\n",
    "            d_sum += dist(cluster, p) \n",
    "        if d_sum > min_dist:\n",
    "            min_dist = d_sum\n",
    "            best_point = p\n",
    "    return best_point"
   ]
  },
  {
   "cell_type": "code",
   "execution_count": 159,
   "metadata": {},
   "outputs": [
    {
     "data": {
      "text/plain": [
       "<matplotlib.collections.PathCollection at 0x7fd982c1f7c0>"
      ]
     },
     "execution_count": 159,
     "metadata": {},
     "output_type": "execute_result"
    }
   ],
   "source": [
    "P = new_cluster(C)\n",
    "C = [P]\n",
    "ax1.scatter(P[0],P[1],c='orange')\n",
    "#plt.show()"
   ]
  },
  {
   "cell_type": "code",
   "execution_count": 160,
   "metadata": {},
   "outputs": [
    {
     "data": {
      "image/png": "[encoded data removed]",
      "text/plain": [
       "<Figure size 432x288 with 1 Axes>"
      ]
     },
     "metadata": {
      "needs_background": "light"
     },
     "output_type": "display_data"
    }
   ],
   "source": [
    "for k in range(K-1):\n",
    "    P = new_cluster(C)\n",
    "    C.append(P)\n",
    "    ax1.scatter(P[0],P[1],c='orange')\n",
    "plt.show()"
   ]
  },
  {
   "cell_type": "code",
   "execution_count": 161,
   "metadata": {},
   "outputs": [
    {
     "data": {
      "text/plain": [
       "[array([0.02058449, 0.96990985]),\n",
       " array([0.77127035, 0.07404465]),\n",
       " array([0.93949894, 0.89482735]),\n",
       " array([0.02541913, 0.10789143]),\n",
       " array([0.96563203, 0.80839735])]"
      ]
     },
     "execution_count": 161,
     "metadata": {},
     "output_type": "execute_result"
    }
   ],
   "source": [
    "C"
   ]
  },
  {
   "cell_type": "code",
   "execution_count": null,
   "metadata": {},
   "outputs": [],
   "source": []
  },
  {
   "cell_type": "code",
   "execution_count": null,
   "metadata": {},
   "outputs": [],
   "source": []
  },
  {
   "cell_type": "code",
   "execution_count": null,
   "metadata": {},
   "outputs": [],
   "source": []
  },
  {
   "cell_type": "code",
   "execution_count": null,
   "metadata": {},
   "outputs": [],
   "source": []
  },
  {
   "cell_type": "code",
   "execution_count": null,
   "metadata": {},
   "outputs": [],
   "source": []
  },
  {
   "cell_type": "code",
   "execution_count": null,
   "metadata": {},
   "outputs": [],
   "source": []
  }
 ],
 "metadata": {
  "kernelspec": {
   "display_name": "Python 3",
   "language": "python",
   "name": "python3"
  },
  "language_info": {
   "codemirror_mode": {
    "name": "ipython",
    "version": 3
   },
   "file_extension": ".py",
   "mimetype": "text/x-python",
   "name": "python",
   "nbconvert_exporter": "python",
   "pygments_lexer": "ipython3",
   "version": "3.8.5"
  }
 },
 "nbformat": 4,
 "nbformat_minor": 4
}
